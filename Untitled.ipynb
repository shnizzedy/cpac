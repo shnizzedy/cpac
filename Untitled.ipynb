{
 "cells": [
  {
   "cell_type": "code",
   "execution_count": 1,
   "metadata": {},
   "outputs": [],
   "source": [
    "extra = [{'--pipeline_override=numParticipantsAtOnce': ' 3'}, '-h', '--pipeline_override', {'maxCoresPerParticipant': ' 2'}]"
   ]
  },
  {
   "cell_type": "code",
   "execution_count": 8,
   "metadata": {},
   "outputs": [
    {
     "data": {
      "text/plain": [
       "[{'--pipeline_override=numParticipantsAtOnce': ' 3'},\n",
       " '-h',\n",
       " '--pipeline_override',\n",
       " {'maxCoresPerParticipant': ' 2'}]"
      ]
     },
     "execution_count": 8,
     "metadata": {},
     "output_type": "execute_result"
    }
   ],
   "source": [
    "parse_extra_args(extra)"
   ]
  },
  {
   "cell_type": "code",
   "execution_count": 16,
   "metadata": {},
   "outputs": [],
   "source": [
    "def parse_extra_args(extras):\n",
    "    \"\"\"\n",
    "    Function to parse extra_args.\n",
    "    \n",
    "    Parameter\n",
    "    ---------\n",
    "    extras: list of strings\n",
    "    \n",
    "    Returns\n",
    "    -------\n",
    "    list of any\n",
    "    \"\"\"\n",
    "    new_extras = []\n",
    "    for extra in extras:\n",
    "        if isinstance(extra, str):\n",
    "            if \"=\" in extra:\n",
    "                for i in extra.split('='):\n",
    "                    new_extras.append(maybe_dict(i))\n",
    "            else:\n",
    "                new_extras.append(maybe_dict(extra))\n",
    "    return new_extras\n",
    "\n",
    "\n",
    "def maybe_dict(arg):\n",
    "    \"\"\"\n",
    "    Function to convert a string to a dict if the string contains a colon.\n",
    "    \n",
    "    Parameter\n",
    "    ---------\n",
    "    arg: str\n",
    "    \n",
    "    Returns\n",
    "    -------\n",
    "    str or dict\n",
    "    \"\"\"\n",
    "    if \":\" in arg:\n",
    "        s = arg.split(':')\n",
    "        return {s[0].strip(): s[1].strip()}\n",
    "    return(arg)"
   ]
  },
  {
   "cell_type": "code",
   "execution_count": 11,
   "metadata": {},
   "outputs": [],
   "source": [
    "extras = ['--pipeline_override=numParticipantsAtOnce: 3', '-h', '--pipeline_override', 'maxCoresPerParticipant: 2']"
   ]
  },
  {
   "cell_type": "code",
   "execution_count": 17,
   "metadata": {},
   "outputs": [
    {
     "data": {
      "text/plain": [
       "['--pipeline_override',\n",
       " {'numParticipantsAtOnce': '3'},\n",
       " '-h',\n",
       " '--pipeline_override',\n",
       " {'maxCoresPerParticipant': '2'}]"
      ]
     },
     "execution_count": 17,
     "metadata": {},
     "output_type": "execute_result"
    }
   ],
   "source": [
    "parse_extra_args(extras)"
   ]
  },
  {
   "cell_type": "code",
   "execution_count": null,
   "metadata": {},
   "outputs": [],
   "source": []
  }
 ],
 "metadata": {
  "kernelspec": {
   "display_name": "Python 3",
   "language": "python",
   "name": "python3"
  },
  "language_info": {
   "codemirror_mode": {
    "name": "ipython",
    "version": 3
   },
   "file_extension": ".py",
   "mimetype": "text/x-python",
   "name": "python",
   "nbconvert_exporter": "python",
   "pygments_lexer": "ipython3",
   "version": "3.8.2"
  }
 },
 "nbformat": 4,
 "nbformat_minor": 4
}
